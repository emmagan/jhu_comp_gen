{
 "cells": [
  {
   "cell_type": "code",
   "execution_count": 10,
   "metadata": {},
   "outputs": [],
   "source": [
    "import pandas as pd"
   ]
  },
  {
   "cell_type": "code",
   "execution_count": 29,
   "metadata": {},
   "outputs": [],
   "source": [
    "df = pd.read_csv('bench.csv',index_col=0)\n",
    "df_size = pd.read_csv('graphSize_data.csv',index_col=0)"
   ]
  },
  {
   "cell_type": "code",
   "execution_count": 20,
   "metadata": {},
   "outputs": [
    {
     "data": {
      "text/html": [
       "<div>\n",
       "<style scoped>\n",
       "    .dataframe tbody tr th:only-of-type {\n",
       "        vertical-align: middle;\n",
       "    }\n",
       "\n",
       "    .dataframe tbody tr th {\n",
       "        vertical-align: top;\n",
       "    }\n",
       "\n",
       "    .dataframe thead th {\n",
       "        text-align: right;\n",
       "    }\n",
       "</style>\n",
       "<table border=\"1\" class=\"dataframe\">\n",
       "  <thead>\n",
       "    <tr style=\"text-align: right;\">\n",
       "      <th></th>\n",
       "      <th>V</th>\n",
       "      <th>E</th>\n",
       "    </tr>\n",
       "  </thead>\n",
       "  <tbody>\n",
       "    <tr>\n",
       "      <th>nonwheeler2</th>\n",
       "      <td>12</td>\n",
       "      <td>13</td>\n",
       "    </tr>\n",
       "    <tr>\n",
       "      <th>nonwheeler3</th>\n",
       "      <td>6</td>\n",
       "      <td>7</td>\n",
       "    </tr>\n",
       "    <tr>\n",
       "      <th>nonwheeler4</th>\n",
       "      <td>6</td>\n",
       "      <td>6</td>\n",
       "    </tr>\n",
       "    <tr>\n",
       "      <th>nonwheeler5</th>\n",
       "      <td>10</td>\n",
       "      <td>9</td>\n",
       "    </tr>\n",
       "    <tr>\n",
       "      <th>nonwheeler6</th>\n",
       "      <td>11</td>\n",
       "      <td>11</td>\n",
       "    </tr>\n",
       "  </tbody>\n",
       "</table>\n",
       "</div>"
      ],
      "text/plain": [
       "              V   E\n",
       "nonwheeler2  12  13\n",
       "nonwheeler3   6   7\n",
       "nonwheeler4   6   6\n",
       "nonwheeler5  10   9\n",
       "nonwheeler6  11  11"
      ]
     },
     "execution_count": 20,
     "metadata": {},
     "output_type": "execute_result"
    }
   ],
   "source": [
    "df_size.head()"
   ]
  },
  {
   "cell_type": "code",
   "execution_count": 12,
   "metadata": {},
   "outputs": [
    {
     "data": {
      "text/html": [
       "<div>\n",
       "<style scoped>\n",
       "    .dataframe tbody tr th:only-of-type {\n",
       "        vertical-align: middle;\n",
       "    }\n",
       "\n",
       "    .dataframe tbody tr th {\n",
       "        vertical-align: top;\n",
       "    }\n",
       "\n",
       "    .dataframe thead th {\n",
       "        text-align: right;\n",
       "    }\n",
       "</style>\n",
       "<table border=\"1\" class=\"dataframe\">\n",
       "  <thead>\n",
       "    <tr style=\"text-align: right;\">\n",
       "      <th></th>\n",
       "      <th>naive-order</th>\n",
       "      <th>partition-order</th>\n",
       "      <th>naive</th>\n",
       "      <th>partition</th>\n",
       "    </tr>\n",
       "  </thead>\n",
       "  <tbody>\n",
       "    <tr>\n",
       "      <th>nonwheeler2</th>\n",
       "      <td>0.002221</td>\n",
       "      <td>0.002156</td>\n",
       "      <td>NaN</td>\n",
       "      <td>NaN</td>\n",
       "    </tr>\n",
       "    <tr>\n",
       "      <th>nonwheeler3</th>\n",
       "      <td>0.001741</td>\n",
       "      <td>0.001488</td>\n",
       "      <td>0.645436</td>\n",
       "      <td>0.659197</td>\n",
       "    </tr>\n",
       "    <tr>\n",
       "      <th>nonwheeler4</th>\n",
       "      <td>0.001800</td>\n",
       "      <td>0.001800</td>\n",
       "      <td>0.586502</td>\n",
       "      <td>0.604752</td>\n",
       "    </tr>\n",
       "    <tr>\n",
       "      <th>nonwheeler5</th>\n",
       "      <td>0.004348</td>\n",
       "      <td>0.002047</td>\n",
       "      <td>0.050809</td>\n",
       "      <td>0.037588</td>\n",
       "    </tr>\n",
       "    <tr>\n",
       "      <th>nonwheeler6</th>\n",
       "      <td>0.003061</td>\n",
       "      <td>0.002420</td>\n",
       "      <td>NaN</td>\n",
       "      <td>NaN</td>\n",
       "    </tr>\n",
       "  </tbody>\n",
       "</table>\n",
       "</div>"
      ],
      "text/plain": [
       "             naive-order  partition-order     naive  partition\n",
       "nonwheeler2     0.002221         0.002156       NaN        NaN\n",
       "nonwheeler3     0.001741         0.001488  0.645436   0.659197\n",
       "nonwheeler4     0.001800         0.001800  0.586502   0.604752\n",
       "nonwheeler5     0.004348         0.002047  0.050809   0.037588\n",
       "nonwheeler6     0.003061         0.002420       NaN        NaN"
      ]
     },
     "execution_count": 12,
     "metadata": {},
     "output_type": "execute_result"
    }
   ],
   "source": [
    "df.head()"
   ]
  },
  {
   "cell_type": "code",
   "execution_count": 13,
   "metadata": {},
   "outputs": [
    {
     "data": {
      "text/html": [
       "<div>\n",
       "<style scoped>\n",
       "    .dataframe tbody tr th:only-of-type {\n",
       "        vertical-align: middle;\n",
       "    }\n",
       "\n",
       "    .dataframe tbody tr th {\n",
       "        vertical-align: top;\n",
       "    }\n",
       "\n",
       "    .dataframe thead th {\n",
       "        text-align: right;\n",
       "    }\n",
       "</style>\n",
       "<table border=\"1\" class=\"dataframe\">\n",
       "  <thead>\n",
       "    <tr style=\"text-align: right;\">\n",
       "      <th></th>\n",
       "      <th>naive-order</th>\n",
       "      <th>partition-order</th>\n",
       "      <th>naive</th>\n",
       "      <th>partition</th>\n",
       "    </tr>\n",
       "  </thead>\n",
       "  <tbody>\n",
       "    <tr>\n",
       "      <th>trie</th>\n",
       "      <td>NaN</td>\n",
       "      <td>NaN</td>\n",
       "      <td>0.814613</td>\n",
       "      <td>0.704957</td>\n",
       "    </tr>\n",
       "    <tr>\n",
       "      <th>trie2</th>\n",
       "      <td>0.00271</td>\n",
       "      <td>0.001415</td>\n",
       "      <td>0.022534</td>\n",
       "      <td>0.020037</td>\n",
       "    </tr>\n",
       "    <tr>\n",
       "      <th>trie3</th>\n",
       "      <td>7.47678</td>\n",
       "      <td>0.371760</td>\n",
       "      <td>7.529050</td>\n",
       "      <td>0.522940</td>\n",
       "    </tr>\n",
       "    <tr>\n",
       "      <th>trie4</th>\n",
       "      <td>0.47951</td>\n",
       "      <td>0.033987</td>\n",
       "      <td>0.634947</td>\n",
       "      <td>0.070526</td>\n",
       "    </tr>\n",
       "  </tbody>\n",
       "</table>\n",
       "</div>"
      ],
      "text/plain": [
       "       naive-order  partition-order     naive  partition\n",
       "trie           NaN              NaN  0.814613   0.704957\n",
       "trie2      0.00271         0.001415  0.022534   0.020037\n",
       "trie3      7.47678         0.371760  7.529050   0.522940\n",
       "trie4      0.47951         0.033987  0.634947   0.070526"
      ]
     },
     "execution_count": 13,
     "metadata": {},
     "output_type": "execute_result"
    }
   ],
   "source": [
    "trie_df = df.loc[df.index.str.contains('trie')]\n",
    "trie_df.head()"
   ]
  },
  {
   "cell_type": "code",
   "execution_count": 14,
   "metadata": {},
   "outputs": [
    {
     "data": {
      "text/plain": [
       "<matplotlib.axes._subplots.AxesSubplot at 0x7fb2c2d80280>"
      ]
     },
     "execution_count": 14,
     "metadata": {},
     "output_type": "execute_result"
    },
    {
     "data": {
      "image/png": "[encoded data removed]",
      "text/plain": [
       "<Figure size 432x288 with 1 Axes>"
      ]
     },
     "metadata": {
      "needs_background": "light"
     },
     "output_type": "display_data"
    }
   ],
   "source": [
    "df.plot(kind='bar',rot=90)"
   ]
  },
  {
   "cell_type": "code",
   "execution_count": 6,
   "metadata": {},
   "outputs": [
    {
     "data": {
      "text/plain": [
       "<matplotlib.axes._subplots.AxesSubplot at 0x19adaaa9fd0>"
      ]
     },
     "execution_count": 6,
     "metadata": {},
     "output_type": "execute_result"
    },
    {
     "data": {
      "image/png": "[encoded data removed]",
      "text/plain": [
       "<Figure size 432x288 with 1 Axes>"
      ]
     },
     "metadata": {
      "needs_background": "light"
     },
     "output_type": "display_data"
    }
   ],
   "source": [
    "trie_df.plot(kind='bar',rot=90)"
   ]
  },
  {
   "cell_type": "code",
   "execution_count": null,
   "metadata": {},
   "outputs": [],
   "source": []
  },
  {
   "cell_type": "code",
   "execution_count": 55,
   "metadata": {},
   "outputs": [
    {
     "data": {
      "text/html": [
       "<div>\n",
       "<style scoped>\n",
       "    .dataframe tbody tr th:only-of-type {\n",
       "        vertical-align: middle;\n",
       "    }\n",
       "\n",
       "    .dataframe tbody tr th {\n",
       "        vertical-align: top;\n",
       "    }\n",
       "\n",
       "    .dataframe thead th {\n",
       "        text-align: right;\n",
       "    }\n",
       "</style>\n",
       "<table border=\"1\" class=\"dataframe\">\n",
       "  <thead>\n",
       "    <tr style=\"text-align: right;\">\n",
       "      <th></th>\n",
       "      <th>naive-order</th>\n",
       "      <th>partition-order</th>\n",
       "      <th>V</th>\n",
       "      <th>E</th>\n",
       "    </tr>\n",
       "  </thead>\n",
       "  <tbody>\n",
       "    <tr>\n",
       "      <th>wheeler</th>\n",
       "      <td>0.007836</td>\n",
       "      <td>0.003980</td>\n",
       "      <td>8</td>\n",
       "      <td>13</td>\n",
       "    </tr>\n",
       "    <tr>\n",
       "      <th>wheeler2</th>\n",
       "      <td>0.001164</td>\n",
       "      <td>0.000884</td>\n",
       "      <td>3</td>\n",
       "      <td>3</td>\n",
       "    </tr>\n",
       "    <tr>\n",
       "      <th>wheeler3</th>\n",
       "      <td>0.002502</td>\n",
       "      <td>0.001700</td>\n",
       "      <td>5</td>\n",
       "      <td>4</td>\n",
       "    </tr>\n",
       "    <tr>\n",
       "      <th>wheeler4</th>\n",
       "      <td>0.002108</td>\n",
       "      <td>0.001274</td>\n",
       "      <td>6</td>\n",
       "      <td>5</td>\n",
       "    </tr>\n",
       "    <tr>\n",
       "      <th>wheeler5</th>\n",
       "      <td>0.005825</td>\n",
       "      <td>0.004171</td>\n",
       "      <td>10</td>\n",
       "      <td>10</td>\n",
       "    </tr>\n",
       "    <tr>\n",
       "      <th>wheeler6</th>\n",
       "      <td>0.009165</td>\n",
       "      <td>0.002907</td>\n",
       "      <td>12</td>\n",
       "      <td>12</td>\n",
       "    </tr>\n",
       "    <tr>\n",
       "      <th>wheeler7</th>\n",
       "      <td>0.002469</td>\n",
       "      <td>0.001619</td>\n",
       "      <td>6</td>\n",
       "      <td>5</td>\n",
       "    </tr>\n",
       "  </tbody>\n",
       "</table>\n",
       "</div>"
      ],
      "text/plain": [
       "          naive-order  partition-order   V   E\n",
       "wheeler      0.007836         0.003980   8  13\n",
       "wheeler2     0.001164         0.000884   3   3\n",
       "wheeler3     0.002502         0.001700   5   4\n",
       "wheeler4     0.002108         0.001274   6   5\n",
       "wheeler5     0.005825         0.004171  10  10\n",
       "wheeler6     0.009165         0.002907  12  12\n",
       "wheeler7     0.002469         0.001619   6   5"
      ]
     },
     "metadata": {},
     "output_type": "display_data"
    }
   ],
   "source": [
    "#split data into manual and trie and look at order and no order approaches... \n",
    "#first, look at manual approach: ordering: \n",
    "# so plot all the manual graphs on x-axis with size as variable against their times on y-axis. \n",
    "\n",
    "manual_df = df.loc[df.index.str.contains('wheeler')][[\"naive-order\", \"partition-order\"]]\n",
    "manual_df = manual_df.iloc[6:]\n",
    "manual_df_size = df_size.loc[df_size.index.str.contains(\"wheeler\")]\n",
    "manual_df_size = manual_df_size.iloc[6:]\n",
    "\n",
    "#manual_df = df[[\"naive-order\", \"partition-order\"]]\n",
    "#manual_df_size = df_size\n",
    "\n",
    "frames = [manual_df, manual_df_size]\n",
    "result = manual_df.join(manual_df_size, how='outer')\n",
    "display(result)"
   ]
  },
  {
   "cell_type": "code",
   "execution_count": 56,
   "metadata": {},
   "outputs": [
    {
     "data": {
      "text/plain": [
       "<matplotlib.axes._subplots.AxesSubplot at 0x7fb2c3a79c10>"
      ]
     },
     "execution_count": 56,
     "metadata": {},
     "output_type": "execute_result"
    },
    {
     "data": {
      "image/png": "[encoded data removed]",
      "text/plain": [
       "<Figure size 432x288 with 1 Axes>"
      ]
     },
     "metadata": {
      "needs_background": "light"
     },
     "output_type": "display_data"
    }
   ],
   "source": [
    "# plot vertices/edges vs. time taken for naive-order or partition-order to run \n",
    "result.dropna()\n",
    "naive_v = result[['V', 'naive-order']]\n",
    "partition_v = result[['V', 'partition-order']]\n",
    "ax = naive_v.plot(x='V', y='naive-order', style='o', title='Vertices vs. Naive Ordering Time (Wheeler Graphs)')\n",
    "partition_v.plot(x='V', y='partition-order', style='o', ax=ax)"
   ]
  },
  {
   "cell_type": "code",
   "execution_count": 61,
   "metadata": {},
   "outputs": [
    {
     "data": {
      "text/plain": [
       "<matplotlib.axes._subplots.AxesSubplot at 0x7fb2c439eeb0>"
      ]
     },
     "execution_count": 61,
     "metadata": {},
     "output_type": "execute_result"
    },
    {
     "data": {
      "image/png": "[encoded data removed]",
      "text/plain": [
       "<Figure size 432x288 with 1 Axes>"
      ]
     },
     "metadata": {
      "needs_background": "light"
     },
     "output_type": "display_data"
    }
   ],
   "source": [
    "naive_v = result[['E', 'naive-order']]\n",
    "partition_v = result[['E', 'partition-order']]\n",
    "ax = naive_v.plot(x='E', y='naive-order', style='o', title='Edges vs. Naive Ordering Time (Wheeler Graphs)')\n",
    "partition_v.plot(x='E', y='partition-order', style='o', ax=ax)"
   ]
  },
  {
   "cell_type": "code",
   "execution_count": 62,
   "metadata": {},
   "outputs": [
    {
     "data": {
      "text/html": [
       "<div>\n",
       "<style scoped>\n",
       "    .dataframe tbody tr th:only-of-type {\n",
       "        vertical-align: middle;\n",
       "    }\n",
       "\n",
       "    .dataframe tbody tr th {\n",
       "        vertical-align: top;\n",
       "    }\n",
       "\n",
       "    .dataframe thead th {\n",
       "        text-align: right;\n",
       "    }\n",
       "</style>\n",
       "<table border=\"1\" class=\"dataframe\">\n",
       "  <thead>\n",
       "    <tr style=\"text-align: right;\">\n",
       "      <th></th>\n",
       "      <th>naive-order</th>\n",
       "      <th>partition-order</th>\n",
       "      <th>V</th>\n",
       "      <th>E</th>\n",
       "    </tr>\n",
       "  </thead>\n",
       "  <tbody>\n",
       "    <tr>\n",
       "      <th>trie</th>\n",
       "      <td>NaN</td>\n",
       "      <td>NaN</td>\n",
       "      <td>7</td>\n",
       "      <td>6</td>\n",
       "    </tr>\n",
       "    <tr>\n",
       "      <th>trie1</th>\n",
       "      <td>NaN</td>\n",
       "      <td>NaN</td>\n",
       "      <td>397</td>\n",
       "      <td>396</td>\n",
       "    </tr>\n",
       "    <tr>\n",
       "      <th>trie2</th>\n",
       "      <td>0.00271</td>\n",
       "      <td>0.001415</td>\n",
       "      <td>7</td>\n",
       "      <td>6</td>\n",
       "    </tr>\n",
       "    <tr>\n",
       "      <th>trie3</th>\n",
       "      <td>7.47678</td>\n",
       "      <td>0.371760</td>\n",
       "      <td>397</td>\n",
       "      <td>396</td>\n",
       "    </tr>\n",
       "    <tr>\n",
       "      <th>trie4</th>\n",
       "      <td>0.47951</td>\n",
       "      <td>0.033987</td>\n",
       "      <td>104</td>\n",
       "      <td>103</td>\n",
       "    </tr>\n",
       "  </tbody>\n",
       "</table>\n",
       "</div>"
      ],
      "text/plain": [
       "       naive-order  partition-order    V    E\n",
       "trie           NaN              NaN    7    6\n",
       "trie1          NaN              NaN  397  396\n",
       "trie2      0.00271         0.001415    7    6\n",
       "trie3      7.47678         0.371760  397  396\n",
       "trie4      0.47951         0.033987  104  103"
      ]
     },
     "metadata": {},
     "output_type": "display_data"
    }
   ],
   "source": [
    "trie_data1 = df.loc[df.index.str.contains('trie')][[\"naive-order\", \"partition-order\"]]\n",
    "trie_data2 = df_size.loc[df_size.index.str.contains(\"trie\")]\n",
    "result = trie_data1.join(trie_data2, how='outer')\n",
    "display(result)"
   ]
  },
  {
   "cell_type": "code",
   "execution_count": 63,
   "metadata": {},
   "outputs": [
    {
     "data": {
      "text/plain": [
       "<matplotlib.axes._subplots.AxesSubplot at 0x7fb2c4463e50>"
      ]
     },
     "execution_count": 63,
     "metadata": {},
     "output_type": "execute_result"
    },
    {
     "data": {
      "image/png": "[encoded data removed]",
      "text/plain": [
       "<Figure size 432x288 with 1 Axes>"
      ]
     },
     "metadata": {
      "needs_background": "light"
     },
     "output_type": "display_data"
    }
   ],
   "source": [
    "naive_v = result[['V', 'naive-order']]\n",
    "partition_v = result[['V', 'partition-order']]\n",
    "ax = naive_v.plot(x='V', y='naive-order', style='o', title='Vertices vs. Naive Ordering Time (Tries)')\n",
    "partition_v.plot(x='V', y='partition-order', style='o', ax=ax)"
   ]
  },
  {
   "cell_type": "code",
   "execution_count": 64,
   "metadata": {},
   "outputs": [
    {
     "data": {
      "text/plain": [
       "<matplotlib.axes._subplots.AxesSubplot at 0x7fb2c364b2e0>"
      ]
     },
     "execution_count": 64,
     "metadata": {},
     "output_type": "execute_result"
    },
    {
     "data": {
      "image/png": "[encoded data removed]",
      "text/plain": [
       "<Figure size 432x288 with 1 Axes>"
      ]
     },
     "metadata": {
      "needs_background": "light"
     },
     "output_type": "display_data"
    }
   ],
   "source": [
    "naive_v = result[['E', 'naive-order']]\n",
    "partition_v = result[['E', 'partition-order']]\n",
    "ax = naive_v.plot(x='E', y='naive-order', style='o', title='Edges vs. Naive Ordering Time (Tries)')\n",
    "partition_v.plot(x='E', y='partition-order', style='o', ax=ax)"
   ]
  },
  {
   "cell_type": "code",
   "execution_count": 65,
   "metadata": {},
   "outputs": [
    {
     "data": {
      "text/html": [
       "<div>\n",
       "<style scoped>\n",
       "    .dataframe tbody tr th:only-of-type {\n",
       "        vertical-align: middle;\n",
       "    }\n",
       "\n",
       "    .dataframe tbody tr th {\n",
       "        vertical-align: top;\n",
       "    }\n",
       "\n",
       "    .dataframe thead th {\n",
       "        text-align: right;\n",
       "    }\n",
       "</style>\n",
       "<table border=\"1\" class=\"dataframe\">\n",
       "  <thead>\n",
       "    <tr style=\"text-align: right;\">\n",
       "      <th></th>\n",
       "      <th>naive-order</th>\n",
       "      <th>partition-order</th>\n",
       "      <th>V</th>\n",
       "      <th>E</th>\n",
       "    </tr>\n",
       "  </thead>\n",
       "  <tbody>\n",
       "    <tr>\n",
       "      <th>nonwheeler2</th>\n",
       "      <td>0.002221</td>\n",
       "      <td>0.002156</td>\n",
       "      <td>12</td>\n",
       "      <td>13</td>\n",
       "    </tr>\n",
       "    <tr>\n",
       "      <th>nonwheeler3</th>\n",
       "      <td>0.001741</td>\n",
       "      <td>0.001488</td>\n",
       "      <td>6</td>\n",
       "      <td>7</td>\n",
       "    </tr>\n",
       "    <tr>\n",
       "      <th>nonwheeler4</th>\n",
       "      <td>0.001800</td>\n",
       "      <td>0.001800</td>\n",
       "      <td>6</td>\n",
       "      <td>6</td>\n",
       "    </tr>\n",
       "    <tr>\n",
       "      <th>nonwheeler5</th>\n",
       "      <td>0.004348</td>\n",
       "      <td>0.002047</td>\n",
       "      <td>10</td>\n",
       "      <td>9</td>\n",
       "    </tr>\n",
       "    <tr>\n",
       "      <th>nonwheeler6</th>\n",
       "      <td>0.003061</td>\n",
       "      <td>0.002420</td>\n",
       "      <td>11</td>\n",
       "      <td>11</td>\n",
       "    </tr>\n",
       "    <tr>\n",
       "      <th>nonwheelersmall</th>\n",
       "      <td>0.001730</td>\n",
       "      <td>0.002414</td>\n",
       "      <td>3</td>\n",
       "      <td>3</td>\n",
       "    </tr>\n",
       "  </tbody>\n",
       "</table>\n",
       "</div>"
      ],
      "text/plain": [
       "                 naive-order  partition-order   V   E\n",
       "nonwheeler2         0.002221         0.002156  12  13\n",
       "nonwheeler3         0.001741         0.001488   6   7\n",
       "nonwheeler4         0.001800         0.001800   6   6\n",
       "nonwheeler5         0.004348         0.002047  10   9\n",
       "nonwheeler6         0.003061         0.002420  11  11\n",
       "nonwheelersmall     0.001730         0.002414   3   3"
      ]
     },
     "metadata": {},
     "output_type": "display_data"
    }
   ],
   "source": [
    "nonwheel1 = df.loc[df.index.str.contains('non')][[\"naive-order\", \"partition-order\"]]\n",
    "nonwheel2 = df_size.loc[df_size.index.str.contains(\"non\")]\n",
    "result = nonwheel1.join(nonwheel2, how='outer')\n",
    "display(result)"
   ]
  },
  {
   "cell_type": "code",
   "execution_count": 66,
   "metadata": {},
   "outputs": [
    {
     "data": {
      "text/plain": [
       "<matplotlib.axes._subplots.AxesSubplot at 0x7fb2c466ffd0>"
      ]
     },
     "execution_count": 66,
     "metadata": {},
     "output_type": "execute_result"
    },
    {
     "data": {
      "image/png": "[encoded data removed]",
      "text/plain": [
       "<Figure size 432x288 with 1 Axes>"
      ]
     },
     "metadata": {
      "needs_background": "light"
     },
     "output_type": "display_data"
    }
   ],
   "source": [
    "naive_v = result[['V', 'naive-order']]\n",
    "partition_v = result[['V', 'partition-order']]\n",
    "ax = naive_v.plot(x='V', y='naive-order', style='o', title='Vertices vs. Naive Ordering Time (Non-Wheeler Graphs)')\n",
    "partition_v.plot(x='V', y='partition-order', style='o', ax=ax)"
   ]
  },
  {
   "cell_type": "code",
   "execution_count": 68,
   "metadata": {},
   "outputs": [
    {
     "data": {
      "text/plain": [
       "<matplotlib.axes._subplots.AxesSubplot at 0x7fb2c492bd30>"
      ]
     },
     "execution_count": 68,
     "metadata": {},
     "output_type": "execute_result"
    },
    {
     "data": {
      "image/png": "[encoded data removed]",
      "text/plain": [
       "<Figure size 432x288 with 1 Axes>"
      ]
     },
     "metadata": {
      "needs_background": "light"
     },
     "output_type": "display_data"
    }
   ],
   "source": [
    "naive_v = result[['E', 'naive-order']]\n",
    "partition_v = result[['E', 'partition-order']]\n",
    "ax = naive_v.plot(x='E', y='naive-order', style='o', title='Edges vs. Naive Ordering Time (Non-Wheeler Graphs)')\n",
    "partition_v.plot(x='E', y='partition-order', style='o', ax=ax)"
   ]
  },
  {
   "cell_type": "code",
   "execution_count": null,
   "metadata": {},
   "outputs": [],
   "source": []
  }
 ],
 "metadata": {
  "kernelspec": {
   "display_name": "Python 3",
   "language": "python",
   "name": "python3"
  },
  "language_info": {
   "codemirror_mode": {
    "name": "ipython",
    "version": 3
   },
   "file_extension": ".py",
   "mimetype": "text/x-python",
   "name": "python",
   "nbconvert_exporter": "python",
   "pygments_lexer": "ipython3",
   "version": "3.8.3"
  }
 },
 "nbformat": 4,
 "nbformat_minor": 4
}
